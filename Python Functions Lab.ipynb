{
 "cells": [
  {
   "cell_type": "code",
   "execution_count": 4,
   "id": "5547e9a1",
   "metadata": {},
   "outputs": [
    {
     "name": "stdout",
     "output_type": "stream",
     "text": [
      "0.022360679774997897\n",
      "0.007851275229897797\n"
     ]
    }
   ],
   "source": [
    "import numpy as np\n",
    "\n",
    "def rule1(c,dA):\n",
    "    dQ = (c)**dA\n",
    "    return dQ\n",
    "\n",
    "def rule2(m,dA,A,c):\n",
    "    dQ = (c*m*A**(m-1))*dA\n",
    "    return dQ\n",
    "\n",
    "def rule3(dA, dB):\n",
    "    dQ = np.sqrt(dA**2+dB**2)\n",
    "    return dQ\n",
    "\n",
    "dx1 = 0.01\n",
    "dx2 = 0.02\n",
    "\n",
    "dx = rule3(dx1,dx2)\n",
    "print (dx)\n",
    "\n",
    "def rule4(Q,A,m,B,n,dA,dB):\n",
    "    dQ = Q*np.sqrt((m*(dA/A))**2 + (n*(dB/B))**2)\n",
    "    return dQ\n",
    "\n",
    "vi = 3.5125\n",
    "xavg = 1.5868\n",
    "m = 1\n",
    "y = 1\n",
    "n = .5\n",
    "errx = .003457\n",
    "erry = .001\n",
    "\n",
    "\n",
    "dvi = rule4(vi,xavg,m,y,n,errx,erry)\n",
    "print (dvi)\n",
    "\n",
    "\n",
    "##vi in Python is the same as lab vi.\n"
   ]
  },
  {
   "cell_type": "code",
   "execution_count": 5,
   "id": "f490b2ac",
   "metadata": {},
   "outputs": [
    {
     "name": "stdout",
     "output_type": "stream",
     "text": [
      "0.17950549357115014 1.1166666666666667\n"
     ]
    }
   ],
   "source": [
    "x = np.array([1.1,1.3,1.4,0.9,0.95,1.05])\n",
    "\n",
    "std = np.std(x)\n",
    "avg = np.average(x)\n",
    "print(std,avg)\n",
    "\n",
    "## My results conclude the standard deviation of the array is .18 and the average of the array is 1.12."
   ]
  },
  {
   "cell_type": "markdown",
   "id": "db112dbb",
   "metadata": {},
   "source": [
    "rule 3 = $\\delta Q=\\sqrt{(\\delta A)^2+(\\delta B)^2}$\n",
    "\n",
    "\n",
    "$\\delta v=v \\sqrt{\\left(\\frac{\\delta x}{x}\\right)^2+ \\left(\\frac{-\\delta y}{2y}\\right)^2}$\n"
   ]
  },
  {
   "cell_type": "code",
   "execution_count": null,
   "id": "92240638",
   "metadata": {},
   "outputs": [],
   "source": []
  }
 ],
 "metadata": {
  "kernelspec": {
   "display_name": "Python 3 (ipykernel)",
   "language": "python",
   "name": "python3"
  },
  "language_info": {
   "codemirror_mode": {
    "name": "ipython",
    "version": 3
   },
   "file_extension": ".py",
   "mimetype": "text/x-python",
   "name": "python",
   "nbconvert_exporter": "python",
   "pygments_lexer": "ipython3",
   "version": "3.9.12"
  }
 },
 "nbformat": 4,
 "nbformat_minor": 5
}
